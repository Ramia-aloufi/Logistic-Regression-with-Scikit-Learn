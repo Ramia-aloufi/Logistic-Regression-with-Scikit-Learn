{
 "cells": [
  {
   "cell_type": "markdown",
   "id": "9054602d",
   "metadata": {},
   "source": [
    "# 🧠 Logistic Regression with Scikit-Learn\n",
    "This notebook demonstrates a simple logistic regression model using synthetic data.\n",
    "We generate two clusters of data, train a logistic regression classifier, visualize the decision boundary, and evaluate the model's performance.\n",
    "\n",
    "[![Open in Colab](https://colab.research.google.com/assets/colab-badge.svg)](https://colab.research.google.com/github/yourusername/yourrepo/blob/main/logistic_regression.ipynb)\n"
   ]
  },
  {
   "cell_type": "markdown",
   "id": "5744e4a2",
   "metadata": {},
   "source": [
    "## 📊 Generate Synthetic Data"
   ]
  },
  {
   "cell_type": "code",
   "execution_count": null,
   "id": "7ae7cc05",
   "metadata": {},
   "outputs": [],
   "source": [
    "import numpy as np\n",
    "import matplotlib.pyplot as plt\n",
    "\n",
    "# Set seed for reproducibility\n",
    "np.random.seed(42)\n",
    "n_samples = 100\n",
    "\n",
    "# Create two clusters of points\n",
    "X1 = np.random.randn(n_samples, 2) + np.array([2, 2])\n",
    "X2 = np.random.randn(n_samples, 2) + np.array([-2, -2])\n",
    "X = np.vstack([X1, X2])\n",
    "y = np.hstack([np.ones(n_samples), np.zeros(n_samples)])"
   ]
  },
  {
   "cell_type": "markdown",
   "id": "f002ab74",
   "metadata": {},
   "source": [
    "## ⚙️ Preprocess the Data"
   ]
  },
  {
   "cell_type": "code",
   "execution_count": null,
   "id": "e389c6fb",
   "metadata": {},
   "outputs": [],
   "source": [
    "from sklearn.model_selection import train_test_split\n",
    "from sklearn.preprocessing import StandardScaler\n",
    "\n",
    "# Split data into training and testing sets\n",
    "X_train, X_test, y_train, y_test = train_test_split(X, y, test_size=0.3, random_state=42)\n",
    "\n",
    "# Scale features\n",
    "scaler = StandardScaler()\n",
    "X_train_scaled = scaler.fit_transform(X_train)\n",
    "X_test_scaled = scaler.transform(X_test)"
   ]
  },
  {
   "cell_type": "markdown",
   "id": "702636f5",
   "metadata": {},
   "source": [
    "## 🤖 Train the Logistic Regression Model"
   ]
  },
  {
   "cell_type": "code",
   "execution_count": null,
   "id": "ec61fc3d",
   "metadata": {},
   "outputs": [],
   "source": [
    "from sklearn.linear_model import LogisticRegression\n",
    "\n",
    "# Create and train the model\n",
    "model = LogisticRegression(random_state=42)\n",
    "model.fit(X_train_scaled, y_train)"
   ]
  },
  {
   "cell_type": "markdown",
   "id": "c9fc4b1c",
   "metadata": {},
   "source": [
    "## 📈 Evaluate the Model"
   ]
  },
  {
   "cell_type": "code",
   "execution_count": null,
   "id": "1d3d47c5",
   "metadata": {},
   "outputs": [],
   "source": [
    "from sklearn.metrics import accuracy_score, classification_report\n",
    "\n",
    "# Predict and evaluate\n",
    "y_pred = model.predict(X_test_scaled)\n",
    "accuracy = accuracy_score(y_test, y_pred)\n",
    "print(f\"Accuracy: {accuracy:.3f}\")\n",
    "print(\"\\nClassification Report:\\n\", classification_report(y_test, y_pred))"
   ]
  },
  {
   "cell_type": "markdown",
   "id": "1e337e83",
   "metadata": {},
   "source": [
    "## 🧾 Plot the Decision Boundary"
   ]
  },
  {
   "cell_type": "code",
   "execution_count": null,
   "id": "591e466a",
   "metadata": {},
   "outputs": [],
   "source": [
    "def plot_decision_boundary(X, y, model, scaler):\n",
    "    x_min, x_max = X[:, 0].min() - 1, X[:, 0].max() + 1\n",
    "    y_min, y_max = X[:, 1].min() - 1, X[:, 1].max() + 1\n",
    "    xx, yy = np.meshgrid(np.arange(x_min, x_max, 0.1),\n",
    "                         np.arange(y_min, y_max, 0.1))\n",
    "    mesh_points = np.c_[xx.ravel(), yy.ravel()]\n",
    "    mesh_points_scaled = scaler.transform(mesh_points)\n",
    "    Z = model.predict(mesh_points_scaled).reshape(xx.shape)\n",
    "    plt.figure(figsize=(10, 8))\n",
    "    plt.contourf(xx, yy, Z, alpha=0.3)\n",
    "    plt.scatter(X[:, 0], X[:, 1], c=y, edgecolors='k', cmap=plt.cm.Paired)\n",
    "    plt.xlabel('Feature 1')\n",
    "    plt.ylabel('Feature 2')\n",
    "    plt.title('Logistic Regression Decision Boundary')\n",
    "    plt.colorbar()\n",
    "    plt.show()\n",
    "\n",
    "# Call the function\n",
    "plot_decision_boundary(X, y, model, scaler)"
   ]
  },
  {
   "cell_type": "markdown",
   "id": "377b1b9d",
   "metadata": {},
   "source": [
    "## ⚖️ Model Coefficients"
   ]
  },
  {
   "cell_type": "code",
   "execution_count": null,
   "id": "b81d32df",
   "metadata": {},
   "outputs": [],
   "source": [
    "print(f\"Coefficients: {model.coef_}\")\n",
    "print(f\"Intercept: {model.intercept_}\")"
   ]
  },
  {
   "cell_type": "markdown",
   "id": "830244e8",
   "metadata": {},
   "source": [
    "## ✅ Summary\n",
    "In this notebook, we:\n",
    "- Generated synthetic data for binary classification\n",
    "- Trained a logistic regression model\n",
    "- Visualized the decision boundary\n",
    "- Evaluated the model's performance\n",
    "\n",
    "This serves as a clean and visual introduction to logistic regression with Scikit-learn."
   ]
  }
 ],
 "metadata": {
  "colab": {
   "provenance": []
  },
  "kernelspec": {
   "display_name": "Python 3",
   "name": "python3"
  },
  "language_info": {
   "name": "python"
  }
 },
 "nbformat": 4,
 "nbformat_minor": 0
}
